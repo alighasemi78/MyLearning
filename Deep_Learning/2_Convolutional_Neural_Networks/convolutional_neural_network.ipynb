{
 "cells": [
  {
   "cell_type": "markdown",
   "metadata": {
    "id": "3DR-eO17geWu"
   },
   "source": [
    "# Convolutional Neural Network"
   ]
  },
  {
   "cell_type": "markdown",
   "metadata": {
    "id": "EMefrVPCg-60"
   },
   "source": [
    "### Importing the libraries"
   ]
  },
  {
   "cell_type": "code",
   "execution_count": 1,
   "metadata": {
    "id": "UgzXt3_t9_bV"
   },
   "outputs": [],
   "source": [
    "import numpy as np\n",
    "import tensorflow as tf\n",
    "from keras.preprocessing.image import ImageDataGenerator"
   ]
  },
  {
   "cell_type": "code",
   "execution_count": 2,
   "metadata": {
    "id": "EnNtPsrU-NoK"
   },
   "outputs": [
    {
     "data": {
      "text/plain": [
       "'2.3.0'"
      ]
     },
     "execution_count": 2,
     "metadata": {},
     "output_type": "execute_result"
    }
   ],
   "source": [
    "tf.__version__"
   ]
  },
  {
   "cell_type": "markdown",
   "metadata": {
    "id": "oxQxCBWyoGPE"
   },
   "source": [
    "## Part 1 - Data Preprocessing"
   ]
  },
  {
   "cell_type": "markdown",
   "metadata": {
    "id": "MvE-heJNo3GG"
   },
   "source": [
    "### Preprocessing the Training set"
   ]
  },
  {
   "cell_type": "code",
   "execution_count": 3,
   "metadata": {
    "id": "tkX6Xe6F-XIA"
   },
   "outputs": [
    {
     "name": "stdout",
     "output_type": "stream",
     "text": [
      "Found 8000 images belonging to 2 classes.\n"
     ]
    }
   ],
   "source": [
    "train_datagen = ImageDataGenerator(rescale=1./255, shear_range=0.2, \n",
    "                                   zoom_range=0.2, horizontal_flip=True)\n",
    "training_set = train_datagen.flow_from_directory('dataset/training_set',\n",
    "                                                    target_size=(64, 64), \n",
    "                                                    batch_size=32,\n",
    "                                                    class_mode=\"binary\")"
   ]
  },
  {
   "cell_type": "markdown",
   "metadata": {
    "id": "mrCMmGw9pHys"
   },
   "source": [
    "### Preprocessing the Test set"
   ]
  },
  {
   "cell_type": "code",
   "execution_count": 4,
   "metadata": {
    "id": "MHBktat6Ae61"
   },
   "outputs": [
    {
     "name": "stdout",
     "output_type": "stream",
     "text": [
      "Found 2000 images belonging to 2 classes.\n"
     ]
    }
   ],
   "source": [
    "test_datagen = ImageDataGenerator(rescale=1./255)\n",
    "test_set = test_datagen.flow_from_directory('dataset/test_set',\n",
    "                                                    target_size=(64, 64), \n",
    "                                                    batch_size=32,\n",
    "                                                    class_mode=\"binary\")"
   ]
  },
  {
   "cell_type": "markdown",
   "metadata": {
    "id": "af8O4l90gk7B"
   },
   "source": [
    "## Part 2 - Building the CNN"
   ]
  },
  {
   "cell_type": "markdown",
   "metadata": {
    "id": "ces1gXY2lmoX"
   },
   "source": [
    "### Initialising the CNN"
   ]
  },
  {
   "cell_type": "code",
   "execution_count": 5,
   "metadata": {
    "id": "12OJqTCvBu-v"
   },
   "outputs": [],
   "source": [
    "cnn = tf.keras.models.Sequential()"
   ]
  },
  {
   "cell_type": "markdown",
   "metadata": {
    "id": "u5YJj_XMl5LF"
   },
   "source": [
    "### Step 1 - Convolution"
   ]
  },
  {
   "cell_type": "code",
   "execution_count": 6,
   "metadata": {
    "id": "jOZrVb9LB5Tj"
   },
   "outputs": [],
   "source": [
    "cnn.add(tf.keras.layers.Conv2D(filters=32, kernel_size=3, activation=\"relu\", input_shape=[64, 64, 3]))"
   ]
  },
  {
   "cell_type": "markdown",
   "metadata": {
    "id": "tf87FpvxmNOJ"
   },
   "source": [
    "### Step 2 - Pooling"
   ]
  },
  {
   "cell_type": "code",
   "execution_count": 7,
   "metadata": {
    "id": "SMEiDoMlC0h_"
   },
   "outputs": [],
   "source": [
    "cnn.add(tf.keras.layers.MaxPool2D(pool_size=(2, 2), strides=2))"
   ]
  },
  {
   "cell_type": "markdown",
   "metadata": {
    "id": "xaTOgD8rm4mU"
   },
   "source": [
    "### Adding a second convolutional layer"
   ]
  },
  {
   "cell_type": "code",
   "execution_count": 8,
   "metadata": {
    "id": "ENHI74GjDdqD"
   },
   "outputs": [],
   "source": [
    "cnn.add(tf.keras.layers.Conv2D(filters=32, kernel_size=3, activation=\"relu\"))\n",
    "cnn.add(tf.keras.layers.MaxPool2D(pool_size=(2, 2), strides=2))"
   ]
  },
  {
   "cell_type": "markdown",
   "metadata": {
    "id": "tmiEuvTunKfk"
   },
   "source": [
    "### Step 3 - Flattening"
   ]
  },
  {
   "cell_type": "code",
   "execution_count": 9,
   "metadata": {
    "id": "uLzaEUoXDnBM"
   },
   "outputs": [],
   "source": [
    "cnn.add(tf.keras.layers.Flatten())"
   ]
  },
  {
   "cell_type": "markdown",
   "metadata": {
    "id": "dAoSECOm203v"
   },
   "source": [
    "### Step 4 - Full Connection"
   ]
  },
  {
   "cell_type": "code",
   "execution_count": 10,
   "metadata": {
    "id": "XYePm_EWDyg6"
   },
   "outputs": [],
   "source": [
    "cnn.add(tf.keras.layers.Dense(units=128, activation=\"relu\"))"
   ]
  },
  {
   "cell_type": "markdown",
   "metadata": {
    "id": "yTldFvbX28Na"
   },
   "source": [
    "### Step 5 - Output Layer"
   ]
  },
  {
   "cell_type": "code",
   "execution_count": 11,
   "metadata": {
    "id": "1gbVajK7EFQn"
   },
   "outputs": [],
   "source": [
    "cnn.add(tf.keras.layers.Dense(units=1, activation=\"sigmoid\"))"
   ]
  },
  {
   "cell_type": "markdown",
   "metadata": {
    "id": "D6XkI90snSDl"
   },
   "source": [
    "## Part 3 - Training the CNN"
   ]
  },
  {
   "cell_type": "markdown",
   "metadata": {
    "id": "vfrFQACEnc6i"
   },
   "source": [
    "### Compiling the CNN"
   ]
  },
  {
   "cell_type": "code",
   "execution_count": 12,
   "metadata": {
    "id": "vripFBz9EV6f"
   },
   "outputs": [],
   "source": [
    "cnn.compile(optimizer=\"adam\", loss=\"binary_crossentropy\", metrics=[\"accuracy\"])"
   ]
  },
  {
   "cell_type": "markdown",
   "metadata": {
    "id": "ehS-v3MIpX2h"
   },
   "source": [
    "### Training the CNN on the Training set and evaluating it on the Test set"
   ]
  },
  {
   "cell_type": "code",
   "execution_count": 13,
   "metadata": {
    "id": "p4gQxqivEvZE"
   },
   "outputs": [
    {
     "name": "stdout",
     "output_type": "stream",
     "text": [
      "Epoch 1/25\n",
      "250/250 [==============================] - 225s 899ms/step - loss: 0.6659 - accuracy: 0.5894 - val_loss: 0.6201 - val_accuracy: 0.6590\n",
      "Epoch 2/25\n",
      "250/250 [==============================] - 49s 196ms/step - loss: 0.6109 - accuracy: 0.6670 - val_loss: 0.5755 - val_accuracy: 0.7035\n",
      "Epoch 3/25\n",
      "250/250 [==============================] - 50s 200ms/step - loss: 0.5676 - accuracy: 0.7056 - val_loss: 0.5268 - val_accuracy: 0.7440\n",
      "Epoch 4/25\n",
      "250/250 [==============================] - 50s 200ms/step - loss: 0.5357 - accuracy: 0.7294 - val_loss: 0.5241 - val_accuracy: 0.7470\n",
      "Epoch 5/25\n",
      "250/250 [==============================] - 51s 204ms/step - loss: 0.5155 - accuracy: 0.7400 - val_loss: 0.5187 - val_accuracy: 0.7430\n",
      "Epoch 6/25\n",
      "250/250 [==============================] - 51s 205ms/step - loss: 0.4866 - accuracy: 0.7692 - val_loss: 0.4921 - val_accuracy: 0.7580\n",
      "Epoch 7/25\n",
      "250/250 [==============================] - 46s 182ms/step - loss: 0.4719 - accuracy: 0.7732 - val_loss: 0.5425 - val_accuracy: 0.7115\n",
      "Epoch 8/25\n",
      "250/250 [==============================] - 40s 162ms/step - loss: 0.4567 - accuracy: 0.7851 - val_loss: 0.4822 - val_accuracy: 0.7630\n",
      "Epoch 9/25\n",
      "250/250 [==============================] - 43s 173ms/step - loss: 0.4362 - accuracy: 0.7975 - val_loss: 0.4825 - val_accuracy: 0.7695\n",
      "Epoch 10/25\n",
      "250/250 [==============================] - 44s 175ms/step - loss: 0.4209 - accuracy: 0.8069 - val_loss: 0.4612 - val_accuracy: 0.7770\n",
      "Epoch 11/25\n",
      "250/250 [==============================] - 44s 174ms/step - loss: 0.4077 - accuracy: 0.8070 - val_loss: 0.5039 - val_accuracy: 0.7675\n",
      "Epoch 12/25\n",
      "250/250 [==============================] - 44s 175ms/step - loss: 0.3926 - accuracy: 0.8188 - val_loss: 0.4454 - val_accuracy: 0.7960\n",
      "Epoch 13/25\n",
      "250/250 [==============================] - 43s 173ms/step - loss: 0.3817 - accuracy: 0.8286 - val_loss: 0.4506 - val_accuracy: 0.7985\n",
      "Epoch 14/25\n",
      "250/250 [==============================] - 44s 178ms/step - loss: 0.3664 - accuracy: 0.8364 - val_loss: 0.4681 - val_accuracy: 0.7900\n",
      "Epoch 15/25\n",
      "250/250 [==============================] - 43s 173ms/step - loss: 0.3549 - accuracy: 0.8411 - val_loss: 0.4620 - val_accuracy: 0.7890\n",
      "Epoch 16/25\n",
      "250/250 [==============================] - 43s 173ms/step - loss: 0.3403 - accuracy: 0.8459 - val_loss: 0.4779 - val_accuracy: 0.7770\n",
      "Epoch 17/25\n",
      "250/250 [==============================] - 43s 174ms/step - loss: 0.3345 - accuracy: 0.8522 - val_loss: 0.5797 - val_accuracy: 0.7540\n",
      "Epoch 18/25\n",
      "250/250 [==============================] - 43s 173ms/step - loss: 0.3066 - accuracy: 0.8680 - val_loss: 0.5099 - val_accuracy: 0.7925\n",
      "Epoch 19/25\n",
      "250/250 [==============================] - 43s 170ms/step - loss: 0.2985 - accuracy: 0.8670 - val_loss: 0.4675 - val_accuracy: 0.7930\n",
      "Epoch 20/25\n",
      "250/250 [==============================] - 44s 175ms/step - loss: 0.2887 - accuracy: 0.8809 - val_loss: 0.5262 - val_accuracy: 0.7900\n",
      "Epoch 21/25\n",
      "250/250 [==============================] - 44s 175ms/step - loss: 0.2684 - accuracy: 0.8815 - val_loss: 0.5510 - val_accuracy: 0.7800\n",
      "Epoch 22/25\n",
      "250/250 [==============================] - 44s 175ms/step - loss: 0.2538 - accuracy: 0.8934 - val_loss: 0.5525 - val_accuracy: 0.7880\n",
      "Epoch 23/25\n",
      "250/250 [==============================] - 43s 173ms/step - loss: 0.2453 - accuracy: 0.8926 - val_loss: 0.6689 - val_accuracy: 0.7635\n",
      "Epoch 24/25\n",
      "250/250 [==============================] - 44s 176ms/step - loss: 0.2431 - accuracy: 0.8992 - val_loss: 0.5246 - val_accuracy: 0.7945\n",
      "Epoch 25/25\n",
      "250/250 [==============================] - 45s 180ms/step - loss: 0.2224 - accuracy: 0.9106 - val_loss: 0.6402 - val_accuracy: 0.7775\n"
     ]
    },
    {
     "data": {
      "text/plain": [
       "<tensorflow.python.keras.callbacks.History at 0x14ee68fa3d0>"
      ]
     },
     "execution_count": 13,
     "metadata": {},
     "output_type": "execute_result"
    }
   ],
   "source": [
    "cnn.fit(training_set, validation_data=test_set, epochs=25)"
   ]
  },
  {
   "cell_type": "markdown",
   "metadata": {
    "id": "U3PZasO0006Z"
   },
   "source": [
    "## Part 4 - Making a single prediction"
   ]
  },
  {
   "cell_type": "code",
   "execution_count": 14,
   "metadata": {
    "id": "UPHPuLPKFPoR"
   },
   "outputs": [],
   "source": [
    "from keras.preprocessing import image\n",
    "test_image = image.load_img('dataset/single_prediction/cat_or_dog_1.jpg', target_size=(64, 64))\n",
    "test_image = image.img_to_array(test_image)\n",
    "test_image = np.expand_dims(test_image, axis=0)\n",
    "result = cnn.predict(test_image)\n",
    "training_set.class_indices\n",
    "if result[0][0] == 1:\n",
    "    prediction = \"dog\"\n",
    "else:\n",
    "    prediction = \"cat\""
   ]
  },
  {
   "cell_type": "code",
   "execution_count": 15,
   "metadata": {
    "id": "a2FOZiSHHU-e"
   },
   "outputs": [
    {
     "name": "stdout",
     "output_type": "stream",
     "text": [
      "dog\n"
     ]
    }
   ],
   "source": [
    "print(prediction)"
   ]
  }
 ],
 "metadata": {
  "colab": {
   "collapsed_sections": [],
   "name": "convolutional_neural_network.ipynb",
   "provenance": [],
   "toc_visible": true
  },
  "kernelspec": {
   "display_name": "Python 3",
   "language": "python",
   "name": "python3"
  },
  "language_info": {
   "codemirror_mode": {
    "name": "ipython",
    "version": 3
   },
   "file_extension": ".py",
   "mimetype": "text/x-python",
   "name": "python",
   "nbconvert_exporter": "python",
   "pygments_lexer": "ipython3",
   "version": "3.8.8"
  }
 },
 "nbformat": 4,
 "nbformat_minor": 1
}
